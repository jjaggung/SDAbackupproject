{
 "cells": [
  {
   "cell_type": "code",
   "execution_count": null,
   "metadata": {},
   "outputs": [],
   "source": [
    "#크롤링 스크립트"
   ]
  },
  {
   "cell_type": "code",
   "execution_count": null,
   "metadata": {},
   "outputs": [],
   "source": [
    "#알림-프로그램(코드)실행은 쉬프트+엔터를 하시면 됩니다."
   ]
  },
  {
   "cell_type": "code",
   "execution_count": null,
   "metadata": {},
   "outputs": [],
   "source": [
    "## 0. 프로그램 초기화(프로그램을 껐다가 켰거나 크롬창을 닫아버렸을경우 한번 실행시켜 줍니다.)\n",
    "###이거 실행시키면 잠시후 자동화 제어가능한 크롬창이 뜹니다.\n",
    "import selenium #모듈 인포트\n",
    "from selenium import webdriver\n",
    "driver = webdriver.Chrome(executable_path=\"C:\\chromedriver\\chromedriver.exe\") #크롬 자동화 제어 소프트웨어 위치 지정. 이걸 수정해서 위치를 직접 지정하시던가, 아니면 저 위치에 크롬드라이버를 직접 갖다놓으시거나 하세요...\n",
    "driver.implicitly_wait(3)\n",
    "import time\n",
    " "
   ]
  },
  {
   "cell_type": "code",
   "execution_count": null,
   "metadata": {},
   "outputs": [],
   "source": [
    "##1.네이버 페이지 띄우기\n",
    "driver.get(\"http://naver.com\")\n",
    "\n",
    "###중요-여기 네이버 창에서 로그인 합니다.(이렇게 개입하셔도 오류 안납니다)\n",
    "###네이버 로그인까지 자동화 하게되면 스트립트가 너무 복잡해 져요.....\n",
    "###중간에 이렇게 개입하실 때에는 탭 절대 닫지 않습니다. 탭이 닫히게 되면 프로그램이 컨트롤을 못해서 오류가 뜹니다."
   ]
  },
  {
   "cell_type": "code",
   "execution_count": null,
   "metadata": {},
   "outputs": [],
   "source": [
    "#--------------------------------------------------------------------------"
   ]
  },
  {
   "cell_type": "code",
   "execution_count": null,
   "metadata": {},
   "outputs": [],
   "source": [
    "##2. 이제 크롤링 스크립트를 시작합니다."
   ]
  },
  {
   "cell_type": "code",
   "execution_count": null,
   "metadata": {},
   "outputs": [],
   "source": [
    "tno=1 #이곳에 저장시작 게시글번호 입력\n",
    "while tno <=401873: #이곳에 끝 게시글번호 입력\n",
    "    #원래 한번에 다 안받아집니다. 한 10만개씩 적당히 끊어서 받고 저장하세요.... 위 숫자를 수정하셔서 끊으시면 됩니다.\n",
    "    driver.get(\"http://cafe.naver.com/skydevelopers/%d\" % tno)\n",
    "    time.sleep(0.5)\n",
    "    try:\n",
    "        time.sleep(1)\n",
    "        alert = driver.switch_to_alert()\n",
    "        alert.accept()\n",
    "        print(\"%d번 게시글은 존재하지 않음\" % tno)\n",
    "        tno = tno +1\n",
    "    except:\n",
    "        driver.switch_to_frame('cafe_main')\n",
    "        html = driver.page_source.encode('utf-8')\n",
    "        html= html.decode('utf-8')\n",
    "        f = open('C:/Users/wjdgo/SDA/%d.html' % tno , 'w' , encoding='UTF-8') #여기에 저장경로를 입력해 주시면 되는데, 저는 C:\\Users\\wjdgo\\SDA 폴더에 저장했습니다. 폴더를 직접 이렇게 만드시거나, 아니면 스크립트 수정하세요.\n",
    "        f.write(html)\n",
    "        f.close()\n",
    "        print(\"%d번 게시글 저장완료.\" % tno)\n",
    "        tno = tno +1\n",
    "        time.sleep(0.2)"
   ]
  },
  {
   "cell_type": "code",
   "execution_count": null,
   "metadata": {},
   "outputs": [],
   "source": [
    "#---------------------------------------------------------------------------"
   ]
  },
  {
   "cell_type": "code",
   "execution_count": null,
   "metadata": {},
   "outputs": [],
   "source": [
    "#3. 수집한 html파일중 오류나서 로그인페이지로 리다이렉트 시키는 구문 제거"
   ]
  },
  {
   "cell_type": "code",
   "execution_count": null,
   "metadata": {},
   "outputs": [],
   "source": [
    "tno=1 #이곳에는 시작 게시글번호 입력\n",
    "while tno <=401873: #이곳에 끝 게시글번호 입력\n",
    "    \n",
    "    try:\n",
    "        html = open(\"C:/Users/wjdgo/SDA/%d.html\" %tno , 'r', encoding='UTF-8')\n",
    "        html2 = html.read()\n",
    "        html3 = html2.replace(u'<iframe title=\"답변쓰기에디터\"' , u'w')\n",
    "        fl = open('C:/Users/wjdgo/SDA/out/%d.html' %tno , 'w' , encoding='UTF-8') #수정된 파일은 C:/Users/wjdgo/SDA/out/폴더에 저장됩니다. 디렉터리 만드시거나 수정하시거나 합니다.\n",
    "        fl.write(html3)\n",
    "        fl.close()\n",
    "        print(\"%d번 게시글 차단구문 제거완료\" %tno)\n",
    "        tno = tno+1\n",
    "        \n",
    "    except:\n",
    "        print(\"%d번 게시글파일은 존재하지 않음\" %tno)\n",
    "        tno = tno+1\n",
    "        \n",
    "        \n",
    "        \n",
    "   "
   ]
  },
  {
   "cell_type": "code",
   "execution_count": null,
   "metadata": {},
   "outputs": [],
   "source": [
    "#----------------------------------------------------------------------------"
   ]
  },
  {
   "cell_type": "code",
   "execution_count": null,
   "metadata": {},
   "outputs": [],
   "source": [
    "PDF후처리 스크립트는 파이썬이 아닌, 배치(bat)파일입니다. 따로 업로드 하겠습니다."
   ]
  },
  {
   "cell_type": "code",
   "execution_count": null,
   "metadata": {},
   "outputs": [],
   "source": [
    "#20180526정해준, admin@nonaver.com wjdgowns77@naver.com"
   ]
  }
 ],
 "metadata": {
  "kernelspec": {
   "display_name": "Python 3",
   "language": "python",
   "name": "python3"
  },
  "language_info": {
   "codemirror_mode": {
    "name": "ipython",
    "version": 3
   },
   "file_extension": ".py",
   "mimetype": "text/x-python",
   "name": "python",
   "nbconvert_exporter": "python",
   "pygments_lexer": "ipython3",
   "version": "3.6.5"
  }
 },
 "nbformat": 4,
 "nbformat_minor": 2
}
